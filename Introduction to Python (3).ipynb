{
 "cells": [
  {
   "cell_type": "markdown",
   "metadata": {
    "collapsed": true
   },
   "source": [
    "# Data structures\n",
    "Python has four basic data structures, *lists*, *dictionaries*, *tuples* and *sets*.  \n",
    "(as we have limited time, we'll only look at lists and dictionaries here)"
   ]
  },
  {
   "cell_type": "markdown",
   "metadata": {},
   "source": [
    "## List\n",
    "A list is an ordered collection of things, they are roughly equivalent to arrays in other programming languages. You use [square brackets] to define a list of items* and you can add and remove items to and from a list. You can create an empty list with a pair of square brackets: []"
   ]
  },
  {
   "cell_type": "code",
   "execution_count": null,
   "metadata": {},
   "outputs": [],
   "source": [
    "my_list_of_numbers = [4, 8, 76, 1, 453]"
   ]
  },
  {
   "cell_type": "markdown",
   "metadata": {},
   "source": [
    "The 'for loop' we learned about earlier suddenly becomes a lot more useful:"
   ]
  },
  {
   "cell_type": "code",
   "execution_count": null,
   "metadata": {},
   "outputs": [],
   "source": [
    "for i in my_list_of_numbers:\n",
    "    print(i)"
   ]
  },
  {
   "cell_type": "markdown",
   "metadata": {},
   "source": [
    "You can get the number of items in a list by using the build in len() function (short for length).\n",
    "You can access an element in a list by its index. Indexes in Python start at 0 (like most programming languages). "
   ]
  },
  {
   "cell_type": "code",
   "execution_count": null,
   "metadata": {},
   "outputs": [],
   "source": [
    "furniture = ['chair', 'table', 'bed']\n",
    "print(len(furniture))\n",
    "print(furniture[1])"
   ]
  },
  {
   "cell_type": "markdown",
   "metadata": {},
   "source": [
    "Lists have a number of built in methods that you can apply to them, you call them by adding a period to your list and adding the method name:\n",
    "* .append(thing)  - appends the thing to the end of the list\n",
    "* .remove(thing)  - removes the first thing it finds from the list\n",
    "* .reverse()  - reverses the order of the list\n",
    "* .sort()  - sorts the list (by default, alphabetically or numerically in ascending order)\n",
    "* .pop()  - removes the last element from the list and returns it to you"
   ]
  },
  {
   "cell_type": "code",
   "execution_count": null,
   "metadata": {},
   "outputs": [],
   "source": [
    "important_foods = ['spam', 'eggs', 'sausage']\n",
    "\n",
    "important_foods.append('spam')\n",
    "important_foods.append('spam')\n",
    "important_foods.append('spam')\n",
    "important_foods.append('lobster thermidor')\n",
    "\n",
    "print(important_foods)\n",
    "\n",
    "last_item = important_foods.pop()\n",
    "print(last_item)\n",
    "\n",
    "important_foods.sort()\n",
    "\n",
    "print(important_foods)\n",
    "\n",
    "important_foods.remove('sausage')\n",
    "important_foods.remove('eggs')\n",
    "\n",
    "print(important_foods)\n",
    "print(important_foods.count('spam'))"
   ]
  },
  {
   "cell_type": "markdown",
   "metadata": {},
   "source": [
    "## Dictionaries\n",
    "Dictionaries are another extremely useful data structure. Unlike a list, which is indexed by numbers, dictionaries are indexed by keys. Dictionaries are sometimes found in other languages as 'associatiative arrays'.\n",
    "\n",
    "Keys can be any immutable type, most commonly you will use strings and numbers.\n",
    "\n",
    "You create a dictionary using {curly braces}* - you can create an empty dictionary with {}"
   ]
  },
  {
   "cell_type": "code",
   "execution_count": null,
   "metadata": {},
   "outputs": [],
   "source": [
    "phone_numbers = {\n",
    "    'michael': 123455,\n",
    "    'john': 987654,\n",
    "    'eric': 673645,\n",
    "}\n",
    "\n",
    "# access using key\n",
    "print(phone_numbers['john'])\n",
    "\n",
    "# check if a key exists\n",
    "print('eric' in phone_numbers)\n",
    "print('terry' in phone_numbers)\n",
    "\n",
    "# add a new key\n",
    "phone_numbers['terry'] = 765294\n",
    "phone_numbers['bob'] = 765294\n",
    "print(phone_numbers)\n",
    "\n",
    "# update an entry\n",
    "phone_numbers['terry'] = 654321\n",
    "print(phone_numbers)\n",
    "\n",
    "# remove an entry\n",
    "del phone_numbers['bob']\n",
    "print(phone_numbers)"
   ]
  },
  {
   "cell_type": "code",
   "execution_count": null,
   "metadata": {},
   "outputs": [],
   "source": [
    "phone_numbers = {\n",
    "    'michael': 123455,\n",
    "    'john': 987654,\n",
    "    'eric': 673645,\n",
    "    'terry_g': 765294,  # note the need to distinguish between the two terries\n",
    "    'graham': 836546,\n",
    "    'terry_j': 372645,\n",
    "}\n",
    "\n",
    "# looping through the dictionary\n",
    "print('A loop using the the key to get the value')\n",
    "for name in phone_numbers:\n",
    "    print(name, phone_numbers[name], end=', ')  # note the 'end' parameter\n",
    "\n",
    "print('A loop getting the both the key and the value')\n",
    "for name, number in phone_numbers.items():\n",
    "    print(name, number, end=', ')"
   ]
  },
  {
   "cell_type": "markdown",
   "metadata": {},
   "source": [
    "## Exercise:\n",
    "* Create a dictionary mapping country codes to country names (add 2 or 3)\n",
    "* Construct and print a string in the format \"I live in {country}, which has the code {code}\"\n",
    "* Create a variable called *chosen_country* and set it to a string that's the same as one of your country codes\n",
    "* Iterate through your dictionary, if the current key is the same as chosen_country, print the string \"Found {country code}, the country is {country name}\" (substituting the values you found)\n",
    "\n",
    "Some example ISO country codes (or make some up):\n",
    "FR - France\n",
    "GB - UK\n",
    "VU - Vanuatu"
   ]
  }
 ],
 "metadata": {
  "kernelspec": {
   "display_name": "Python 3.6",
   "language": "python",
   "name": "python36"
  },
  "language_info": {
   "codemirror_mode": {
    "name": "ipython",
    "version": 3
   },
   "file_extension": ".py",
   "mimetype": "text/x-python",
   "name": "python",
   "nbconvert_exporter": "python",
   "pygments_lexer": "ipython3",
   "version": "3.6.3"
  }
 },
 "nbformat": 4,
 "nbformat_minor": 2
}
