{
 "cells": [
  {
   "cell_type": "markdown",
   "metadata": {},
   "source": [
    "# User input\n",
    "You can ask the user to input a string with the input() function. If you need the entered information to be an integer or a float you can *cast* the output with the int() or float() functions."
   ]
  },
  {
   "cell_type": "code",
   "execution_count": null,
   "metadata": {},
   "outputs": [],
   "source": [
    "name = input(\"Please enter your name: \")\n",
    "print(\"Hello {0}\".format(name))"
   ]
  },
  {
   "cell_type": "code",
   "execution_count": null,
   "metadata": {},
   "outputs": [],
   "source": [
    "some_number = int(input(\"Please enter an integer: \"))\n",
    "print(\"Double {0} is {1}\".format(some_number, some_number * 2))"
   ]
  },
  {
   "cell_type": "markdown",
   "metadata": {},
   "source": [
    "What do you think happens if you don't cast the input to an integer? Try removing the int() and running it again (make sure to remove both of the parenthesis)"
   ]
  },
  {
   "cell_type": "markdown",
   "metadata": {
    "collapsed": true
   },
   "source": [
    "# Flow control"
   ]
  },
  {
   "cell_type": "markdown",
   "metadata": {},
   "source": [
    "Most of the time, you'll need to control the order of how things in your program execute. There are three flow control statements in python: *if*, *for* and *while*.\n",
    "\n",
    "We use *if* to check if a condition is true. We demark the statements we want to run with indentation (you may have seen other languages using {curly brackets} or ending the statement with other words, such as END IF).\n",
    "\n",
    "The Python intepreter determines which code is in the same block by the number of spaces before it (tabs are converted to spaces). While you can use any number of spaces to demark a block, this is **not** recommended. Convention is that you use 4 spaces per indentation level and prefer spaces to tabs. Many (most?) Python editors will add 4 spaces for you when you press the tab key. Python (3) won't let you mix tabs and spaces."
   ]
  },
  {
   "cell_type": "code",
   "execution_count": null,
   "metadata": {},
   "outputs": [],
   "source": [
    "number_to_guess = 42\n",
    "user_guess = int(input(\"Enter an integer: \"))\n",
    "\n",
    "if user_guess == number_to_guess:\n",
    "    print(\"You guessed the number!\")\n",
    "    \n",
    "elif user_guess < number_to_guess:\n",
    "    print(\"Too low!\")\n",
    "    \n",
    "else:\n",
    "    print(\"Too high!\")"
   ]
  },
  {
   "cell_type": "markdown",
   "metadata": {},
   "source": [
    "The *else* statement is optional and contains code the will be executed when a statement is false, the *elif* statement combines the else with another if."
   ]
  },
  {
   "cell_type": "markdown",
   "metadata": {},
   "source": [
    "It's pretty tedious having to run the program each time. We can use a *while* loop to loop over a block of code while a condition is true."
   ]
  },
  {
   "cell_type": "code",
   "execution_count": null,
   "metadata": {},
   "outputs": [],
   "source": [
    "number_to_guess = 42\n",
    "user_guess = None\n",
    "\n",
    "while user_guess != number_to_guess:\n",
    "    user_guess = int(input(\"Enter an integer: \"))\n",
    "    \n",
    "    if user_guess == number_to_guess:\n",
    "        print(\"You guessed the number!\")\n",
    "\n",
    "    elif user_guess < number_to_guess:\n",
    "        print(\"Too low!\")\n",
    "\n",
    "    else:\n",
    "        print(\"Too high!\")"
   ]
  },
  {
   "cell_type": "markdown",
   "metadata": {},
   "source": [
    "## *for* loops\n",
    "A *for* loop iterates over a sequence of objects. Note: their usage is very different to 'c' style for loops."
   ]
  },
  {
   "cell_type": "code",
   "execution_count": null,
   "metadata": {},
   "outputs": [],
   "source": [
    "for a in range(1, 5):\n",
    "    print(a)"
   ]
  },
  {
   "cell_type": "markdown",
   "metadata": {},
   "source": [
    "The range() function returns a sequence starting from the first number and going up to (but not including) the last number. You can add a third argument to range which becomes the step between the numbers. Try adding the third argument, e.g. range(1, 10, 2)\n",
    "\n",
    "for loops will make more sense after we've looked at lists and dictionaries."
   ]
  },
  {
   "cell_type": "markdown",
   "metadata": {},
   "source": [
    "## Exercise:\n",
    "Write a program in the box below that asks the user to guess a name"
   ]
  },
  {
   "cell_type": "code",
   "execution_count": null,
   "metadata": {},
   "outputs": [],
   "source": [
    "# Write your program here"
   ]
  }
 ],
 "metadata": {
  "kernelspec": {
   "display_name": "Python 3.6",
   "language": "python",
   "name": "python36"
  },
  "language_info": {
   "codemirror_mode": {
    "name": "ipython",
    "version": 3
   },
   "file_extension": ".py",
   "mimetype": "text/x-python",
   "name": "python",
   "nbconvert_exporter": "python",
   "pygments_lexer": "ipython3",
   "version": "3.6.3"
  }
 },
 "nbformat": 4,
 "nbformat_minor": 2
}
