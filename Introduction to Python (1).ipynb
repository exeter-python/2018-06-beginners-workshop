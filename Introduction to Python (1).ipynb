{
 "cells": [
  {
   "cell_type": "markdown",
   "metadata": {},
   "source": [
    "# Welcome to Python for Beginners!"
   ]
  },
  {
   "cell_type": "markdown",
   "metadata": {},
   "source": [
    "https://github.com/exeter-python/"
   ]
  },
  {
   "cell_type": "markdown",
   "metadata": {},
   "source": [
    "The print() function prints text (to the screen, in this case). Try changing the text below and running the cell - with the cell selected, either click the \"Run\" button above or press ctrl-enter.\n",
    "\n",
    "What happens if you remove one or both of the quote marks?"
   ]
  },
  {
   "cell_type": "code",
   "execution_count": null,
   "metadata": {},
   "outputs": [],
   "source": [
    "print(\"Hello world!\")"
   ]
  },
  {
   "cell_type": "markdown",
   "metadata": {},
   "source": [
    "When writing code, you should consider who might read it in the future (including yourself!). While self-documenting code is ideal, adding comments can explain details and assumptions. The # symbol is used to indicate a comment and and be used on the same line as the code (at the end) or on a line by itself.\n",
    "\n",
    "Try editing the following print statement and comments then running the cell"
   ]
  },
  {
   "cell_type": "code",
   "execution_count": null,
   "metadata": {},
   "outputs": [],
   "source": [
    "# This is a comment!\n",
    "print(\"Hello meetup attendees\")  # Here's another comment"
   ]
  },
  {
   "cell_type": "markdown",
   "metadata": {},
   "source": [
    "## Variables"
   ]
  },
  {
   "cell_type": "markdown",
   "metadata": {},
   "source": [
    "Python supports different types of variables, including strings and numbers."
   ]
  },
  {
   "cell_type": "code",
   "execution_count": null,
   "metadata": {},
   "outputs": [],
   "source": [
    "name = \"Michael Palin\"\n",
    "age = 75  # Correct at time of writing!\n",
    "\n",
    "# You can construct a string from other variables\n",
    "my_string = \"My favourite Monty Python member is {0}, who is {1} years old.\".format(name, age)\n",
    "\n",
    "print(my_string)"
   ]
  },
  {
   "cell_type": "code",
   "execution_count": null,
   "metadata": {},
   "outputs": [],
   "source": [
    "# If you are using Python 3.6 or later, you can use f-strings:\n",
    "my_string = f\"My favourite Monty Python member is {name}, who is {age} years old\"\n",
    "print(my_string)"
   ]
  },
  {
   "cell_type": "markdown",
   "metadata": {},
   "source": [
    "Some things to consider:\n",
    "* The first letter must be a letter of the alphabet (lower or uppercase) or an underscore\n",
    "* The rest of the variable name can include numbers\n",
    "* Variable names are case sensitive, *name* is not the same as *Name*\n",
    "\n",
    "Python supports integers, floating point and complex numbers."
   ]
  },
  {
   "cell_type": "markdown",
   "metadata": {
    "slideshow": {
     "slide_type": "subslide"
    }
   },
   "source": [
    "## Operators\n",
    "An operator performs a specific mathematical, relational or logical operation, here are some of the basic ones:"
   ]
  },
  {
   "cell_type": "code",
   "execution_count": null,
   "metadata": {},
   "outputs": [],
   "source": [
    "print(1 + 2)\n",
    "print(10 - 3)\n",
    "print(3 * 4)\n",
    "print(8 / 2)\n",
    "print(7**2)  # 7 squared, or 7 to the 2nd power"
   ]
  },
  {
   "cell_type": "markdown",
   "metadata": {},
   "source": [
    "We can write expressions using these operators"
   ]
  },
  {
   "cell_type": "code",
   "execution_count": null,
   "metadata": {},
   "outputs": [],
   "source": [
    "length = 4\n",
    "width = 2\n",
    "\n",
    "area = length * width\n",
    "\n",
    "print(\"The area is {0}\".format(area))"
   ]
  },
  {
   "cell_type": "markdown",
   "metadata": {},
   "source": [
    "Python evaluates your expressions using similar rules to those you probably learned in school - you might remember PEDMAS - parenthesis, exponents, multiplication, division, addition and subtraction?\n",
    "\n",
    "You can change the order of evaluation and/or make things more readable by using parenthesis:"
   ]
  },
  {
   "cell_type": "code",
   "execution_count": null,
   "metadata": {},
   "outputs": [],
   "source": [
    "perimeter = (length + width) * 2\n",
    "print(\"The perimeter is {0}\".format(perimeter))"
   ]
  },
  {
   "cell_type": "markdown",
   "metadata": {},
   "source": [
    "## Exercise:\n",
    "Write a program in the box below that does the following:\n",
    "* assigns the values 10, 12 and 15 to the variables length, width and height\n",
    "* create a variable called volume and use your variables to calculate it\n",
    "* print your volume to the screen as part of a descriptive string"
   ]
  },
  {
   "cell_type": "code",
   "execution_count": null,
   "metadata": {},
   "outputs": [],
   "source": [
    "# Write your program here"
   ]
  }
 ],
 "metadata": {
  "kernelspec": {
   "display_name": "Python 3.6",
   "language": "python",
   "name": "python36"
  },
  "language_info": {
   "codemirror_mode": {
    "name": "ipython",
    "version": 3
   },
   "file_extension": ".py",
   "mimetype": "text/x-python",
   "name": "python",
   "nbconvert_exporter": "python",
   "pygments_lexer": "ipython3",
   "version": "3.6.3"
  }
 },
 "nbformat": 4,
 "nbformat_minor": 2
}
