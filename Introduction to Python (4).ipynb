{
 "cells": [
  {
   "cell_type": "markdown",
   "metadata": {
    "collapsed": true
   },
   "source": [
    "# Functions\n",
    "Functions are small pieces of reusable code (they also help you organise code, making your programs easier to understand).\n",
    "\n",
    "A function has a name* and accepts parameters. You should define your function before you use it."
   ]
  },
  {
   "cell_type": "code",
   "execution_count": null,
   "metadata": {},
   "outputs": [],
   "source": [
    "def hello_world():\n",
    "    print(\"Hello world!\")\n",
    "    \n",
    "hello_world()"
   ]
  },
  {
   "cell_type": "markdown",
   "metadata": {},
   "source": [
    "Parameters allow you to pass information to your function and the *return* keyword lets you pass information back out."
   ]
  },
  {
   "cell_type": "code",
   "execution_count": null,
   "metadata": {},
   "outputs": [],
   "source": [
    "def make_greeting(name):\n",
    "    return \"Hello {0}!\".format(name)\n",
    "\n",
    "my_greeting = make_greeting(\"Terry\")\n",
    "print(my_greeting)\n",
    "print(make_greeting(\"Eric\"))"
   ]
  },
  {
   "cell_type": "code",
   "execution_count": null,
   "metadata": {},
   "outputs": [],
   "source": [
    "# You can add default values to your function arguments\n",
    "def repeat_greeting(name, number_of_times=1):\n",
    "    greeting = \"Hello {0}! \".format(name) # Any variables you define inside a function local to that function\n",
    "    print(greeting * number_of_times)\n",
    "    \n",
    "repeat_greeting(\"Terry\")\n",
    "repeat_greeting(\"John\", 5)"
   ]
  },
  {
   "cell_type": "markdown",
   "metadata": {},
   "source": [
    "## Exercise:\n",
    "* Write a function that takes two numbers and returns the sum\n",
    "* Print the output of the function\n",
    "* Change the function so that one of the parameters has a default value. What happens if you change the first parameter vs the second?"
   ]
  },
  {
   "cell_type": "code",
   "execution_count": null,
   "metadata": {},
   "outputs": [],
   "source": [
    "# Write your program here"
   ]
  },
  {
   "cell_type": "markdown",
   "metadata": {},
   "source": [
    "## Exercise:\n",
    "* Write a function that takes a list of numbers (e.g. [1, 2, 3, 4, 5]) and returns the sum.\n",
    "\n",
    "(note: there is a built in *sum()* function, but we'll ignore that for now)"
   ]
  },
  {
   "cell_type": "code",
   "execution_count": null,
   "metadata": {},
   "outputs": [],
   "source": [
    "# Write your program here"
   ]
  }
 ],
 "metadata": {
  "kernelspec": {
   "display_name": "Python 3.6",
   "language": "python",
   "name": "python36"
  },
  "language_info": {
   "codemirror_mode": {
    "name": "ipython",
    "version": 3
   },
   "file_extension": ".py",
   "mimetype": "text/x-python",
   "name": "python",
   "nbconvert_exporter": "python",
   "pygments_lexer": "ipython3",
   "version": "3.6.3"
  }
 },
 "nbformat": 4,
 "nbformat_minor": 2
}
